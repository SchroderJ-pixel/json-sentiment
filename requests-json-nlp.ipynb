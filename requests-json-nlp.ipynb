{
 "cells": [
  {
   "cell_type": "markdown",
   "metadata": {},
   "source": [
    "# Web Mining and Applied NLP (44-620)\n",
    "\n",
    "## Requests, JSON, and NLP\n",
    "\n",
    "### Student Name: Justin Schroder\n",
    "\n",
    "#### Github Link: [SchroderJ-pixel](https://github.com/SchroderJ-pixel)\n",
    "\n",
    "Perform the tasks described in the Markdown cells below.  When you have completed the assignment make sure your code cells have all been run (and have output beneath them) and ensure you have committed and pushed ALL of your changes to your assignment repository.\n",
    "\n",
    "Make sure you have [installed spaCy and its pipeline](https://spacy.io/usage#quickstart) and [spaCyTextBlob](https://spacy.io/universe/project/spacy-textblob)\n",
    "\n",
    "Every question that requires you to write code will have a code cell underneath it; you may either write your entire solution in that cell or write it in a python file (`.py`), then import and run the appropriate code to answer the question.\n",
    "\n",
    "This assignment requires that you write additional files (either JSON or pickle files); make sure to submit those files in your repository as well."
   ]
  },
  {
   "cell_type": "markdown",
   "metadata": {},
   "source": [
    "---"
   ]
  },
  {
   "cell_type": "markdown",
   "metadata": {},
   "source": [
    "### Task 0 \n",
    "0. Imports"
   ]
  },
  {
   "cell_type": "code",
   "execution_count": 88,
   "metadata": {},
   "outputs": [
    {
     "name": "stdout",
     "output_type": "stream",
     "text": [
      "All prereqs installed.\n",
      "Package                 Version\n",
      "----------------------- -----------\n",
      "annotated-types         0.7.0\n",
      "asttokens               3.0.0\n",
      "blis                    1.3.0\n",
      "catalogue               2.0.10\n",
      "certifi                 2025.7.9\n",
      "charset-normalizer      3.4.2\n",
      "click                   8.2.1\n",
      "cloudpathlib            0.21.1\n",
      "colorama                0.4.6\n",
      "comm                    0.2.2\n",
      "confection              0.1.5\n",
      "contourpy               1.3.2\n",
      "cycler                  0.12.1\n",
      "cymem                   2.0.11\n",
      "debugpy                 1.8.14\n",
      "decorator               5.2.1\n",
      "en_core_web_sm          3.8.0\n",
      "executing               2.2.0\n",
      "fonttools               4.58.5\n",
      "idna                    3.10\n",
      "ipykernel               6.29.5\n",
      "ipython                 9.4.0\n",
      "ipython_pygments_lexers 1.1.1\n",
      "jedi                    0.19.2\n",
      "Jinja2                  3.1.6\n",
      "joblib                  1.5.1\n",
      "jupyter_client          8.6.3\n",
      "jupyter_core            5.8.1\n",
      "kiwisolver              1.4.8\n",
      "langcodes               3.5.0\n",
      "language_data           1.3.0\n",
      "marisa-trie             1.2.1\n",
      "markdown-it-py          3.0.0\n",
      "MarkupSafe              3.0.2\n",
      "matplotlib              3.10.3\n",
      "matplotlib-inline       0.1.7\n",
      "mdurl                   0.1.2\n",
      "murmurhash              1.0.13\n",
      "nest-asyncio            1.6.0\n",
      "nltk                    3.9.1\n",
      "numpy                   2.3.1\n",
      "packaging               25.0\n",
      "parso                   0.8.4\n",
      "pillow                  11.3.0\n",
      "pip                     25.1.1\n",
      "platformdirs            4.3.8\n",
      "preshed                 3.0.10\n",
      "prompt_toolkit          3.0.51\n",
      "psutil                  7.0.0\n",
      "pure_eval               0.2.3\n",
      "pydantic                2.11.7\n",
      "pydantic_core           2.33.2\n",
      "Pygments                2.19.2\n",
      "pyparsing               3.2.3\n",
      "python-dateutil         2.9.0.post0\n",
      "pywin32                 310\n",
      "pyzmq                   27.0.0\n",
      "regex                   2024.11.6\n",
      "requests                2.32.4\n",
      "rich                    14.0.0\n",
      "setuptools              80.9.0\n",
      "shellingham             1.5.4\n",
      "six                     1.17.0\n",
      "smart_open              7.3.0.post1\n",
      "spacy                   3.8.7\n",
      "spacy-legacy            3.0.12\n",
      "spacy-loggers           1.0.5\n",
      "spacytextblob           5.0.0\n",
      "srsly                   2.5.1\n",
      "stack-data              0.6.3\n",
      "textblob                0.19.0\n",
      "thinc                   8.3.6\n",
      "tornado                 6.5.1\n",
      "tqdm                    4.67.1\n",
      "traitlets               5.14.3\n",
      "typer                   0.16.0\n",
      "typing_extensions       4.14.1\n",
      "typing-inspection       0.4.1\n",
      "urllib3                 2.5.0\n",
      "wasabi                  1.1.3\n",
      "wcwidth                 0.2.13\n",
      "weasel                  0.4.1\n",
      "wheel                   0.45.1\n",
      "wrapt                   1.17.2\n"
     ]
    }
   ],
   "source": [
    "# Create and activate a Python virtual environment. \n",
    "# Before starting the project, try all these imports FIRST\n",
    "# Address any errors you get running this code cell \n",
    "# by installing the necessary packages into your active Python environment.\n",
    "# Try to resolve issues using your materials and the web.\n",
    "# If that doesn't work, ask for help in the discussion forums.\n",
    "# You can't complete the exercises until you import these - start early! \n",
    "# We also import json and pickle (included in the Python Standard Library).\n",
    "\n",
    "import json\n",
    "import pickle\n",
    "\n",
    "import requests\n",
    "import spacy\n",
    "from spacytextblob.spacytextblob import SpacyTextBlob\n",
    "\n",
    "print('All prereqs installed.')\n",
    "!pip list"
   ]
  },
  {
   "cell_type": "markdown",
   "metadata": {},
   "source": [
    "---"
   ]
  },
  {
   "cell_type": "markdown",
   "metadata": {},
   "source": [
    "## Task 1"
   ]
  },
  {
   "cell_type": "markdown",
   "metadata": {},
   "source": [
    "1. The following code accesses the [lyrics.ovh](https://lyricsovh.docs.apiary.io/#reference/0/lyrics-of-a-song/search) public api, searches for the lyrics of a song, and stores it in a dictionary object.  Write the resulting json to a file (either a JSON file or a pickle file; you choose). You will read in the contents of this file for future questions so we do not need to frequently access the API."
   ]
  },
  {
   "cell_type": "code",
   "execution_count": 89,
   "metadata": {},
   "outputs": [],
   "source": [
    "result = json.loads(requests.get('https://api.lyrics.ovh/v1/They Might Be Giants/Birdhouse in your soul').text)\n",
    "\n",
    "with open(\"lyrics.json\", \"w\") as file:\n",
    "    json.dump(result, file, indent=4)"
   ]
  },
  {
   "cell_type": "markdown",
   "metadata": {},
   "source": [
    "---"
   ]
  },
  {
   "cell_type": "markdown",
   "metadata": {},
   "source": [
    "## Task 2"
   ]
  },
  {
   "cell_type": "markdown",
   "metadata": {},
   "source": [
    "2. Read in the contents of your file.  Print the lyrics of the song (not the entire dictionary!) and use spaCyTextBlob to perform sentiment analysis on the lyrics.  Print the polarity score of the sentiment analysis.  Given that the range of the polarity score is `[-1.0,1.0]` which corresponds to how positive or negative the text in question is, do you think the lyrics have a more positive or negative connotaion?  Answer this question in a comment in your code cell."
   ]
  },
  {
   "cell_type": "code",
   "execution_count": 90,
   "metadata": {},
   "outputs": [
    {
     "name": "stdout",
     "output_type": "stream",
     "text": [
      "Lyrics:\n",
      " I'm your only friend \n",
      "I'm not your only friend \n",
      "But I'm a little glowing friend \n",
      "But really I'm not actually your friend \n",
      "But I am \n",
      "\n",
      "\n",
      "Blue canary in the outlet by the light switch \n",
      "\n",
      "Who watches over you \n",
      "\n",
      "Make a little birdhouse in your soul \n",
      "\n",
      "Not to put too fine a point on it \n",
      "\n",
      "Say I'm the only bee in your bonnet \n",
      "\n",
      "Make a little birdhouse in your soul \n",
      "\n",
      "\n",
      "\n",
      "I have a secret to tell \n",
      "\n",
      "From my electrical well \n",
      "\n",
      "It's a simple message and I'm leaving out the whistles and bells \n",
      "\n",
      "So the room must listen to me \n",
      "\n",
      "Filibuster vigilantly \n",
      "\n",
      "My name is blue canary one note* spelled l-i-t-e \n",
      "\n",
      "My story's infinite \n",
      "\n",
      "Like the Longines Symphonette it doesn't rest \n",
      "\n",
      "\n",
      "\n",
      "Blue canary in the outlet by the light switch \n",
      "\n",
      "Who watches over you \n",
      "\n",
      "Make a little birdhouse in your soul \n",
      "\n",
      "Not to put too fine a point on it \n",
      "\n",
      "Say I'm the only bee in your bonnet \n",
      "\n",
      "Make a little birdhouse in your soul \n",
      "\n",
      "\n",
      "\n",
      "I'm your only friend \n",
      "\n",
      "I'm not your only friend \n",
      "\n",
      "But I'm a little glowing friend \n",
      "\n",
      "But really I'm not actually your friend \n",
      "\n",
      "But I am \n",
      "\n",
      "\n",
      "\n",
      "There's a picture opposite me \n",
      "\n",
      "Of my primitive ancestry \n",
      "\n",
      "Which stood on rocky shores and kept the beaches shipwreck free \n",
      "\n",
      "Though I respect that a lot \n",
      "\n",
      "I'd be fired if that were my job \n",
      "\n",
      "After killing Jason off and countless screaming Argonauts \n",
      "\n",
      "Bluebird of friendliness \n",
      "\n",
      "Like guardian angels its always near \n",
      "\n",
      "\n",
      "\n",
      "Blue canary in the outlet by the light switch \n",
      "\n",
      "Who watches over you \n",
      "\n",
      "Make a little birdhouse in your soul \n",
      "\n",
      "Not to put too fine a point on it \n",
      "\n",
      "Say I'm the only bee in your bonnet \n",
      "\n",
      "Make a little birdhouse in your soul \n",
      "\n",
      "\n",
      "\n",
      "(and while you're at it \n",
      "\n",
      "Keep the nightlight on inside the \n",
      "\n",
      "Birdhouse in your soul) \n",
      "\n",
      "\n",
      "\n",
      "Not to put too fine a point on it \n",
      "\n",
      "Say I'm the only bee in your bonnet \n",
      "\n",
      "Make a little birdhouse in your soul \n",
      "\n",
      "\n",
      "\n",
      "Blue canary in the outlet by the light switch (and while you're at it) \n",
      "\n",
      "Who watches over you (keep the nightlight on inside the) \n",
      "\n",
      "Make a little birdhouse in your soul (birdhouse in your soul) \n",
      "\n",
      "\n",
      "\n",
      "Not to put too fine a point on it \n",
      "\n",
      "Say I'm the only bee in your bonnet \n",
      "\n",
      "Make a little birdhouse in your soul \n",
      "\n",
      "\n",
      "\n",
      "Blue canary in the outlet by the light switch (and while you're at it) \n",
      "\n",
      "Who watches over you (keep the nightlight on inside the) \n",
      "\n",
      "Make a little birdhouse in your soul (birdhouse in your soul) \n",
      "\n",
      "\n",
      "\n",
      "Not to put too fine a point on it \n",
      "\n",
      "Say I'm the only bee in your bonnet \n",
      "\n",
      "Make a little birdhouse in your soul\n",
      "\n",
      "Polarity Score: 0.04505208333333333\n"
     ]
    }
   ],
   "source": [
    "import spacy\n",
    "from spacytextblob.spacytextblob import SpacyTextBlob\n",
    "\n",
    "nlp = spacy.load(\"en_core_web_sm\")\n",
    "nlp.add_pipe(\"spacytextblob\")\n",
    "\n",
    "with open(\"lyrics.json\", \"r\") as file:\n",
    "    data = json.load(file)\n",
    "\n",
    "lyrics = data[\"lyrics\"]\n",
    "print(\"Lyrics:\\n\", lyrics)\n",
    "\n",
    "doc = nlp(lyrics)\n",
    "polarity = doc._.polarity\n",
    "print(\"\\nPolarity Score:\", polarity)"
   ]
  },
  {
   "cell_type": "markdown",
   "metadata": {},
   "source": [
    "---"
   ]
  },
  {
   "cell_type": "markdown",
   "metadata": {},
   "source": [
    "## Task 3"
   ]
  },
  {
   "cell_type": "markdown",
   "metadata": {},
   "source": [
    "3. Write a function that takes an artist, song, and filename, accesses the lyrics.ovh api to get the song lyrics, and writes the results to the specified filename.  Test this function by getting the lyrics to any four songs of your choice and storing them in different files."
   ]
  },
  {
   "cell_type": "code",
   "execution_count": 91,
   "metadata": {},
   "outputs": [
    {
     "name": "stdout",
     "output_type": "stream",
     "text": [
      "Lyrics saved to surfaces_wave_of_you.json\n",
      "Lyrics saved to benson_boone_mystical_magical.json\n",
      "Lyrics saved to alex_warren_ordinary.json\n",
      "Lyrics saved to imagine_dragons_demons.json\n"
     ]
    }
   ],
   "source": [
    "import requests\n",
    "import json\n",
    "\n",
    "def get_lyrics_and_save(artist, song, filename):\n",
    "    url = f\"https://api.lyrics.ovh/v1/{artist}/{song}\"\n",
    "    response = requests.get(url)\n",
    "\n",
    "    if response.status_code == 200:\n",
    "        result = response.json()\n",
    "        with open(filename, \"w\") as file:\n",
    "            json.dump(result, file, indent=4)\n",
    "        print(f\"Lyrics saved to {filename}\")\n",
    "    else:\n",
    "        print(f\"Failed to fetch lyrics for {song} by {artist}\")\n",
    "\n",
    "\n",
    "get_lyrics_and_save(\"Surfaces\", \"Wave of You\", \"surfaces_wave_of_you.json\")\n",
    "get_lyrics_and_save(\"Benson Boone\", \"Mystical Magical\", \"benson_boone_mystical_magical.json\")\n",
    "get_lyrics_and_save(\"Alex Warren\", \"Ordinary\", \"alex_warren_ordinary.json\")\n",
    "get_lyrics_and_save(\"Imagine Dragons\", \"Demons\", \"imagine_dragons_demons.json\")"
   ]
  },
  {
   "cell_type": "markdown",
   "metadata": {},
   "source": [
    "---"
   ]
  },
  {
   "cell_type": "markdown",
   "metadata": {},
   "source": [
    "## Task 4"
   ]
  },
  {
   "cell_type": "markdown",
   "metadata": {},
   "source": [
    "4. Write a function that takes the name of a file that contains song lyrics, loads the file, performs sentiment analysis, and returns the polarity score.  Use this function to print the polarity scores (with the name of the song) of the three files you created in question 3.  Does the reported polarity match your understanding of the song's lyrics? Why or why not do you think that might be?  Answer the questions in either a comment in the code cell or a markdown cell under the code cell."
   ]
  },
  {
   "cell_type": "code",
   "execution_count": 92,
   "metadata": {},
   "outputs": [
    {
     "name": "stdout",
     "output_type": "stream",
     "text": [
      "Surfaces – Wave of You: Polarity Score = -0.140\n",
      "Benson Boone – Mystical Magical: Polarity Score = 0.245\n",
      "Alex Warren – Ordinary: Polarity Score = -0.148\n",
      "Imagine Dragons – Demons: Polarity Score = -0.190\n"
     ]
    }
   ],
   "source": [
    "nlp = spacy.load(\"en_core_web_sm\")\n",
    "\n",
    "if not Doc.has_extension(\"polarity\"):\n",
    "    Doc.set_extension(\"polarity\", getter=lambda doc: TextBlob(doc.text).sentiment.polarity)\n",
    "\n",
    "def analyze_lyrics_sentiment(filename):\n",
    "    with open(filename, \"r\") as file:\n",
    "        data = json.load(file)\n",
    "    \n",
    "    lyrics = data.get(\"lyrics\", \"\")\n",
    "    doc = nlp(lyrics)\n",
    "    return doc._.polarity\n",
    "\n",
    "songs = {\n",
    "    \"Surfaces – Wave of You\": \"surfaces_wave_of_you.json\",\n",
    "    \"Benson Boone – Mystical Magical\": \"benson_boone_mystical_magical.json\",\n",
    "    \"Alex Warren – Ordinary\": \"alex_warren_ordinary.json\",\n",
    "    \"Imagine Dragons – Demons\": \"imagine_dragons_demons.json\"\n",
    "}\n",
    "\n",
    "for title, file in songs.items():\n",
    "    polarity = analyze_lyrics_sentiment(file)\n",
    "    print(f\"{title}: Polarity Score = {polarity:.3f}\")\n"
   ]
  },
  {
   "cell_type": "markdown",
   "metadata": {},
   "source": [
    "---"
   ]
  },
  {
   "cell_type": "markdown",
   "metadata": {},
   "source": [
    "## Bonus Task\n",
    "Graphed the Polarity Scores "
   ]
  },
  {
   "cell_type": "code",
   "execution_count": 93,
   "metadata": {},
   "outputs": [
    {
     "data": {
      "image/png": "[encoded data removed]",
      "text/plain": [
       "<Figure size 800x500 with 1 Axes>"
      ]
     },
     "metadata": {},
     "output_type": "display_data"
    }
   ],
   "source": [
    "import matplotlib.pyplot as plt\n",
    "import numpy as np\n",
    "\n",
    "# Song titles\n",
    "song_titles = [\n",
    "    \"Wave of You\",\n",
    "    \"Mystical Magical\",\n",
    "    \"Ordinary\",\n",
    "    \"Demons\"\n",
    "]\n",
    "\n",
    "# Corresponding files\n",
    "filenames = [\n",
    "    \"surfaces_wave_of_you.json\",\n",
    "    \"benson_boone_mystical_magical.json\",\n",
    "    \"alex_warren_ordinary.json\",\n",
    "    \"imagine_dragons_demons.json\"\n",
    "]\n",
    "\n",
    "# Get polarity scores\n",
    "polarity_scores = [analyze_lyrics_sentiment(file) for file in filenames]\n",
    "\n",
    "# Colors\n",
    "colors = ['red' if score < 0 else 'green' for score in polarity_scores]\n",
    "\n",
    "# Plot\n",
    "plt.figure(figsize=(8, 5))\n",
    "bars = plt.bar(song_titles, polarity_scores, color=colors, edgecolor='black')\n",
    "\n",
    "# Labels and formatting\n",
    "plt.title(\"Sentiment Polarity of Song Lyrics\", fontsize=14)\n",
    "plt.ylabel(\"Polarity Score\", fontsize=12)\n",
    "plt.xlabel(\"Song\", fontsize=12)\n",
    "plt.ylim(-1, 1)\n",
    "plt.axhline(0, color='gray', linestyle='--')\n",
    "\n",
    "# Value labels to each bar\n",
    "for bar in bars:\n",
    "    height = bar.get_height()\n",
    "    plt.text(bar.get_x() + bar.get_width() / 2, height + 0.03 if height >= 0 else height - 0.08,\n",
    "             f\"{height:.2f}\", ha='center', fontsize=10)\n",
    "\n",
    "plt.tight_layout()\n",
    "plt.show()\n",
    "\n"
   ]
  }
 ],
 "metadata": {
  "kernelspec": {
   "display_name": ".venv",
   "language": "python",
   "name": "python3"
  },
  "language_info": {
   "codemirror_mode": {
    "name": "ipython",
    "version": 3
   },
   "file_extension": ".py",
   "mimetype": "text/x-python",
   "name": "python",
   "nbconvert_exporter": "python",
   "pygments_lexer": "ipython3",
   "version": "3.13.1"
  }
 },
 "nbformat": 4,
 "nbformat_minor": 4
}
